{
 "cells": [
  {
   "cell_type": "markdown",
   "metadata": {},
   "source": [
    "Attempting Linear Regression model\n"
   ]
  },
  {
   "cell_type": "code",
   "execution_count": 2,
   "metadata": {
    "collapsed": true
   },
   "outputs": [],
   "source": [
    "import numpy as np"
   ]
  },
  {
   "cell_type": "code",
   "execution_count": 6,
   "metadata": {},
   "outputs": [
    {
     "name": "stdout",
     "output_type": "stream",
     "text": [
      "(12,)\n",
      "(12,)\n"
     ]
    }
   ],
   "source": [
    "data = np.loadtxt(\"TestDataSet.txt\",delimiter = ',')\n",
    "\n",
    "x = data[:,0]\n",
    "y = data[:,1]\n",
    "\n",
    "print(x.shape)\n",
    "print(y.shape)"
   ]
  },
  {
   "cell_type": "code",
   "execution_count": 9,
   "metadata": {},
   "outputs": [
    {
     "name": "stdout",
     "output_type": "stream",
     "text": [
      "(9,)\n",
      "(9,)\n",
      "(3,)\n"
     ]
    }
   ],
   "source": [
    "from sklearn import model_selection\n",
    "\n",
    "x_train , x_test,y_train,y_test = model_selection.train_test_split(x,y)\n",
    "\n",
    "print(x_train.shape)\n",
    "print(y_train.shape)\n",
    "print(x_test.shape)"
   ]
  },
  {
   "cell_type": "code",
   "execution_count": 15,
   "metadata": {},
   "outputs": [
    {
     "data": {
      "image/png": "[encoded data removed]",
      "text/plain": [
       "<matplotlib.figure.Figure at 0x7f18824ca4a8>"
      ]
     },
     "metadata": {},
     "output_type": "display_data"
    }
   ],
   "source": [
    "from sklearn.linear_model import LinearRegression\n",
    "alg1 = LinearRegression()\n",
    "x_train_2D = x_train.reshape(-1,1) # Atleast 2d array needed for features\n",
    "alg1.fit(x_train_2D,y_train)\n",
    "\n",
    "x_test_2D = x_test.reshape(-1,1)\n",
    "y_pred = alg1.predict(x_test_2D)\n",
    "\n",
    "import matplotlib.pyplot as plt\n",
    "plt.scatter(y_pred,y_test)\n",
    "plt.show()"
   ]
  },
  {
   "cell_type": "code",
   "execution_count": 22,
   "metadata": {},
   "outputs": [
    {
     "data": {
      "image/png": "[encoded data removed]",
      "text/plain": [
       "<matplotlib.figure.Figure at 0x7f1882046cc0>"
      ]
     },
     "metadata": {},
     "output_type": "display_data"
    }
   ],
   "source": [
    "# plotting y = mx+c\n",
    "\n",
    "m = alg1.coef_[0]\n",
    "c = alg1.intercept_\n",
    "x_line = np.arange(0,18,0.2)\n",
    "y_line = m*x_line + c\n",
    "\n",
    "# Training data\n",
    "plt.plot(x_line,y_line,\"r--\")\n",
    "plt.scatter(x_train,y_train,color = \"blue\",marker = \"p\") \n",
    "plt.show()"
   ]
  },
  {
   "cell_type": "code",
   "execution_count": 23,
   "metadata": {},
   "outputs": [
    {
     "data": {
      "image/png": "[encoded data removed]",
      "text/plain": [
       "<matplotlib.figure.Figure at 0x7f1881f1fa90>"
      ]
     },
     "metadata": {},
     "output_type": "display_data"
    }
   ],
   "source": [
    "# Testing data\n",
    "\n",
    "plt.plot(x_line,y_line,\"r--\")\n",
    "plt.scatter(x_test,y_test,color = \"blue\",marker = \"p\") \n",
    "plt.show()"
   ]
  },
  {
   "cell_type": "code",
   "execution_count": 28,
   "metadata": {},
   "outputs": [
    {
     "name": "stdout",
     "output_type": "stream",
     "text": [
      "M and C : 0.949799196787 3.14591700134\n",
      "Score (training data): 0.784496542632\n",
      "Score (test data): 0.6665602002\n"
     ]
    }
   ],
   "source": [
    "print(\"M and C :\",m,c)\n",
    "print(\"Score (training data):\",alg1.score(x_train_2D,y_train))\n",
    "print(\"Score (test data):\",alg1.score(x_test_2D,y_test))"
   ]
  },
  {
   "cell_type": "markdown",
   "metadata": {},
   "source": [
    "Implementing Linear Regression using several functions\n",
    "\n",
    "Note : Results should be same as above"
   ]
  },
  {
   "cell_type": "code",
   "execution_count": 32,
   "metadata": {},
   "outputs": [
    {
     "name": "stdout",
     "output_type": "stream",
     "text": [
      "M and C: 0.949799196787 3.14591700134\n",
      "Score (Testing data): 0.6665602002\n",
      "Cost : 4.78038492659\n"
     ]
    }
   ],
   "source": [
    "def fit(x_train,y_train):\n",
    "    num = (x_train*y_train).mean() - x_train.mean()*y_train.mean()\n",
    "    den = (x_train*x_train).mean() - x_train.mean()*x_train.mean()\n",
    "    \n",
    "    m = num/den\n",
    "    c = y_train.mean() - m*x_train.mean()\n",
    "    \n",
    "    return m,c\n",
    "\n",
    "def predict(x_test,m,c):\n",
    "    y_pred = m*x_test + c\n",
    "    return y_pred\n",
    "\n",
    "def CD(y_pred,y_truth):  # coefficient of determination\n",
    "    u = ((y_truth - y_pred) ** 2).mean() # .sum() can also be used\n",
    "    v = ((y_truth - y_truth.mean()) **2 ).mean()\n",
    "    \n",
    "    score = 1 - (u/v)\n",
    "    return score\n",
    "\n",
    "def cost(m,c,x,y):\n",
    "    cost1 = ((y-(m*x+c))**2).mean()\n",
    "    return cost1\n",
    "\n",
    "m1,c1 = fit(x_train,y_train)\n",
    "print(\"M and C:\",m1,c1)\n",
    "y_test_pred1 = predict(x_test,m1,c1) \n",
    "#print(\"Score (Training data):\",CD())\n",
    "print(\"Score (Testing data):\",CD(y_test_pred1,y_test))\n",
    "\n",
    "print(\"Cost :\",cost(m1,c1,x,y))"
   ]
  }
 ],
 "metadata": {
  "kernelspec": {
   "display_name": "Python 3",
   "language": "python",
   "name": "python3"
  },
  "language_info": {
   "codemirror_mode": {
    "name": "ipython",
    "version": 3
   },
   "file_extension": ".py",
   "mimetype": "text/x-python",
   "name": "python",
   "nbconvert_exporter": "python",
   "pygments_lexer": "ipython3",
   "version": "3.6.3"
  }
 },
 "nbformat": 4,
 "nbformat_minor": 2
}
